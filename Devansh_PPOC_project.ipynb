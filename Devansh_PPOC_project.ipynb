{
  "nbformat": 4,
  "nbformat_minor": 0,
  "metadata": {
    "colab": {
      "name": "Devansh PPOC project.ipynb",
      "provenance": [],
      "collapsed_sections": []
    },
    "kernelspec": {
      "name": "python3",
      "display_name": "Python 3"
    },
    "language_info": {
      "name": "python"
    }
  },
  "cells": [
    {
      "cell_type": "code",
      "execution_count": null,
      "metadata": {
        "id": "usvt3nWlmHkU"
      },
      "outputs": [],
      "source": [
        "import pandas as pd"
      ]
    },
    {
      "cell_type": "code",
      "source": [
        "df = pd.read_excel('PPOC Project Data.xlsx', 'Normalised')\n",
        "print(df)"
      ],
      "metadata": {
        "colab": {
          "base_uri": "https://localhost:8080/"
        },
        "id": "Srw2HjR4mQLb",
        "outputId": "3f9a482f-d235-48b3-b30c-7e81b22682e8"
      },
      "execution_count": null,
      "outputs": [
        {
          "output_type": "stream",
          "name": "stdout",
          "text": [
            "    Year  Gini Index  Government expenditure on education, total (% of GDP)  \\\n",
            "0   2000    1.211551                                          -1.574965       \n",
            "1   2001    2.394383                                           0.049543       \n",
            "2   2002    1.791316                                          -0.516958       \n",
            "3   2003    0.660753                                           0.612344       \n",
            "4   2004   -0.003876                                          -1.912311       \n",
            "5   2005    0.542679                                          -0.409179       \n",
            "6   2006   -0.095662                                          -0.460998       \n",
            "7   2007   -0.652157                                          -0.900538       \n",
            "8   2008   -0.207173                                           0.157205       \n",
            "9   2009   -0.171774                                           2.107254       \n",
            "10  2010   -0.656580                                           0.663659       \n",
            "11  2011   -0.809928                                           0.473185       \n",
            "12  2012   -0.738137                                          -0.351726       \n",
            "13  2013   -0.696574                                           0.648817       \n",
            "14  2014   -0.634579                                           0.881987       \n",
            "15  2015   -0.527381                                           0.947202       \n",
            "16  2016   -0.783328                                           0.752254       \n",
            "17  2017   -0.911693                                           0.317888       \n",
            "18  2018   -1.094466                                           0.234543       \n",
            "19  2019    1.382627                                          -1.719208       \n",
            "\n",
            "    Government expenditure on education, total (% of government expenditure)  \\\n",
            "0                                            0.046143                          \n",
            "1                                            1.583292                          \n",
            "2                                            0.661069                          \n",
            "3                                            2.087030                          \n",
            "4                                           -0.348545                          \n",
            "5                                            0.503682                          \n",
            "6                                            0.899426                          \n",
            "7                                            0.595074                          \n",
            "8                                            1.259159                          \n",
            "9                                           -0.385922                          \n",
            "10                                          -0.420870                          \n",
            "11                                          -1.000014                          \n",
            "12                                           0.124884                          \n",
            "13                                           0.204757                          \n",
            "14                                          -0.179681                          \n",
            "15                                          -0.698697                          \n",
            "16                                          -0.741200                          \n",
            "17                                          -1.093097                          \n",
            "18                                          -1.291189                          \n",
            "19                                          -1.805304                          \n",
            "\n",
            "    Literacy rate   Primary  Lower Secondary  Upper Secondary  Tertiary  \\\n",
            "0       -1.125892  0.526743        -0.178124        -0.778992 -1.288169   \n",
            "1       -0.666357 -0.277635        -1.068909        -1.440864 -1.262695   \n",
            "2       -1.095407 -2.556067        -1.052627        -2.397847 -2.198424   \n",
            "3       -1.895843  0.029262        -0.262084        -0.984951 -1.429269   \n",
            "4       -0.775404 -0.535304         0.025029        -0.833050 -0.417981   \n",
            "5       -1.233918  0.796357        -0.032655        -0.147142 -0.081768   \n",
            "6       -1.056173 -2.146082        -0.410494        -1.047097 -0.647599   \n",
            "7       -0.671010 -0.232506         0.006616        -0.234583 -0.304870   \n",
            "8       -0.145500 -0.226388         0.310004        -0.340885 -0.385672   \n",
            "9        0.319281  0.172908         0.542032         0.453713  0.139747   \n",
            "10       0.363967  0.954894         0.646790         0.522627  0.252674   \n",
            "11       1.287821 -0.156017         0.351534         0.612645  0.171412   \n",
            "12       0.172955 -0.254344         0.517358         0.098021  0.179218   \n",
            "13       0.550329  0.355693         0.648657         0.750514  0.430973   \n",
            "14       0.862703  0.012253         0.828533         0.583500  0.594858   \n",
            "15       0.905643  0.783243         1.025628         1.121882  0.931360   \n",
            "16       1.393938  1.272897         0.770650         1.366338  1.367537   \n",
            "17       0.600692  0.457133         0.343158         1.017657  0.956018   \n",
            "18       0.749519 -0.783908         0.601005         0.040350  1.169312   \n",
            "19       1.458656  1.806869        -3.612102         1.638165  1.823336   \n",
            "\n",
            "    Per Capita GDP  \n",
            "0        -1.821622  \n",
            "1        -1.834884  \n",
            "2        -1.660904  \n",
            "3        -1.299419  \n",
            "4        -0.910692  \n",
            "5        -0.650709  \n",
            "6        -0.251367  \n",
            "7         0.285160  \n",
            "8         0.597924  \n",
            "9         0.093921  \n",
            "10        0.301510  \n",
            "11        0.734183  \n",
            "12        0.712181  \n",
            "13        0.873362  \n",
            "14        0.964402  \n",
            "15        0.484809  \n",
            "16        0.533978  \n",
            "17        0.768463  \n",
            "18        1.061386  \n",
            "19        1.018318  \n"
          ]
        }
      ]
    },
    {
      "cell_type": "code",
      "source": [
        "y = df['Gini Index']\n",
        "print(y)"
      ],
      "metadata": {
        "colab": {
          "base_uri": "https://localhost:8080/"
        },
        "id": "mncMAo4Dm3g3",
        "outputId": "44e3dac3-3758-44d9-d9d8-9065d8a9c0a9"
      },
      "execution_count": null,
      "outputs": [
        {
          "output_type": "stream",
          "name": "stdout",
          "text": [
            "0     1.211551\n",
            "1     2.394383\n",
            "2     1.791316\n",
            "3     0.660753\n",
            "4    -0.003876\n",
            "5     0.542679\n",
            "6    -0.095662\n",
            "7    -0.652157\n",
            "8    -0.207173\n",
            "9    -0.171774\n",
            "10   -0.656580\n",
            "11   -0.809928\n",
            "12   -0.738137\n",
            "13   -0.696574\n",
            "14   -0.634579\n",
            "15   -0.527381\n",
            "16   -0.783328\n",
            "17   -0.911693\n",
            "18   -1.094466\n",
            "19    1.382627\n",
            "Name: Gini Index, dtype: float64\n"
          ]
        }
      ]
    },
    {
      "cell_type": "code",
      "source": [
        "X = df[['Government expenditure on education, total (% of GDP)', 'Government expenditure on education, total (% of government expenditure)', 'Literacy rate', 'Primary', 'Lower Secondary', 'Upper Secondary', 'Tertiary']]\n",
        "print(X)"
      ],
      "metadata": {
        "colab": {
          "base_uri": "https://localhost:8080/"
        },
        "id": "HIcqQ2fxnQwa",
        "outputId": "5e8a0299-8a99-4f1d-d40c-0aca492b6295"
      },
      "execution_count": null,
      "outputs": [
        {
          "output_type": "stream",
          "name": "stdout",
          "text": [
            "    Government expenditure on education, total (% of GDP)  \\\n",
            "0                                           -1.574965       \n",
            "1                                            0.049543       \n",
            "2                                           -0.516958       \n",
            "3                                            0.612344       \n",
            "4                                           -1.912311       \n",
            "5                                           -0.409179       \n",
            "6                                           -0.460998       \n",
            "7                                           -0.900538       \n",
            "8                                            0.157205       \n",
            "9                                            2.107254       \n",
            "10                                           0.663659       \n",
            "11                                           0.473185       \n",
            "12                                          -0.351726       \n",
            "13                                           0.648817       \n",
            "14                                           0.881987       \n",
            "15                                           0.947202       \n",
            "16                                           0.752254       \n",
            "17                                           0.317888       \n",
            "18                                           0.234543       \n",
            "19                                          -1.719208       \n",
            "\n",
            "    Government expenditure on education, total (% of government expenditure)  \\\n",
            "0                                            0.046143                          \n",
            "1                                            1.583292                          \n",
            "2                                            0.661069                          \n",
            "3                                            2.087030                          \n",
            "4                                           -0.348545                          \n",
            "5                                            0.503682                          \n",
            "6                                            0.899426                          \n",
            "7                                            0.595074                          \n",
            "8                                            1.259159                          \n",
            "9                                           -0.385922                          \n",
            "10                                          -0.420870                          \n",
            "11                                          -1.000014                          \n",
            "12                                           0.124884                          \n",
            "13                                           0.204757                          \n",
            "14                                          -0.179681                          \n",
            "15                                          -0.698697                          \n",
            "16                                          -0.741200                          \n",
            "17                                          -1.093097                          \n",
            "18                                          -1.291189                          \n",
            "19                                          -1.805304                          \n",
            "\n",
            "    Literacy rate   Primary  Lower Secondary  Upper Secondary  Tertiary  \n",
            "0       -1.125892  0.526743        -0.178124        -0.778992 -1.288169  \n",
            "1       -0.666357 -0.277635        -1.068909        -1.440864 -1.262695  \n",
            "2       -1.095407 -2.556067        -1.052627        -2.397847 -2.198424  \n",
            "3       -1.895843  0.029262        -0.262084        -0.984951 -1.429269  \n",
            "4       -0.775404 -0.535304         0.025029        -0.833050 -0.417981  \n",
            "5       -1.233918  0.796357        -0.032655        -0.147142 -0.081768  \n",
            "6       -1.056173 -2.146082        -0.410494        -1.047097 -0.647599  \n",
            "7       -0.671010 -0.232506         0.006616        -0.234583 -0.304870  \n",
            "8       -0.145500 -0.226388         0.310004        -0.340885 -0.385672  \n",
            "9        0.319281  0.172908         0.542032         0.453713  0.139747  \n",
            "10       0.363967  0.954894         0.646790         0.522627  0.252674  \n",
            "11       1.287821 -0.156017         0.351534         0.612645  0.171412  \n",
            "12       0.172955 -0.254344         0.517358         0.098021  0.179218  \n",
            "13       0.550329  0.355693         0.648657         0.750514  0.430973  \n",
            "14       0.862703  0.012253         0.828533         0.583500  0.594858  \n",
            "15       0.905643  0.783243         1.025628         1.121882  0.931360  \n",
            "16       1.393938  1.272897         0.770650         1.366338  1.367537  \n",
            "17       0.600692  0.457133         0.343158         1.017657  0.956018  \n",
            "18       0.749519 -0.783908         0.601005         0.040350  1.169312  \n",
            "19       1.458656  1.806869        -3.612102         1.638165  1.823336  \n"
          ]
        }
      ]
    },
    {
      "cell_type": "code",
      "source": [
        "import statsmodels.api as sm"
      ],
      "metadata": {
        "id": "WPy-9ZlqosvF"
      },
      "execution_count": null,
      "outputs": []
    },
    {
      "cell_type": "code",
      "source": [
        "lm = sm.OLS(y, X)\n",
        "results = lm.fit()\n",
        "print(results.summary())"
      ],
      "metadata": {
        "colab": {
          "base_uri": "https://localhost:8080/"
        },
        "id": "Gk-ouV0dpWUy",
        "outputId": "c801d1a1-58a8-4899-ecc4-d579628e76a8"
      },
      "execution_count": null,
      "outputs": [
        {
          "output_type": "stream",
          "name": "stdout",
          "text": [
            "                                 OLS Regression Results                                \n",
            "=======================================================================================\n",
            "Dep. Variable:             Gini Index   R-squared (uncentered):                   0.923\n",
            "Model:                            OLS   Adj. R-squared (uncentered):              0.882\n",
            "Method:                 Least Squares   F-statistic:                              22.39\n",
            "Date:                Fri, 08 Jul 2022   Prob (F-statistic):                    2.74e-06\n",
            "Time:                        17:08:12   Log-Likelihood:                         -2.1715\n",
            "No. Observations:                  20   AIC:                                      18.34\n",
            "Df Residuals:                      13   BIC:                                      25.31\n",
            "Df Model:                           7                                                  \n",
            "Covariance Type:            nonrobust                                                  \n",
            "============================================================================================================================================\n",
            "                                                                               coef    std err          t      P>|t|      [0.025      0.975]\n",
            "--------------------------------------------------------------------------------------------------------------------------------------------\n",
            "Government expenditure on education, total (% of GDP)                        0.2321      0.120      1.931      0.076      -0.028       0.492\n",
            "Government expenditure on education, total (% of government expenditure)    -0.0880      0.158     -0.556      0.588      -0.430       0.254\n",
            "Literacy rate                                                                0.2851      0.203      1.405      0.183      -0.153       0.723\n",
            "Primary                                                                      0.6883      0.158      4.353      0.001       0.347       1.030\n",
            "Lower Secondary                                                             -0.6392      0.098     -6.548      0.000      -0.850      -0.428\n",
            "Upper Secondary                                                             -1.1938      0.355     -3.359      0.005      -1.962      -0.426\n",
            "Tertiary                                                                    -0.1865      0.259     -0.721      0.483      -0.745       0.372\n",
            "==============================================================================\n",
            "Omnibus:                        0.142   Durbin-Watson:                   1.294\n",
            "Prob(Omnibus):                  0.932   Jarque-Bera (JB):                0.347\n",
            "Skew:                          -0.115   Prob(JB):                        0.841\n",
            "Kurtosis:                       2.397   Cond. No.                         11.4\n",
            "==============================================================================\n",
            "\n",
            "Warnings:\n",
            "[1] Standard Errors assume that the covariance matrix of the errors is correctly specified.\n"
          ]
        }
      ]
    },
    {
      "cell_type": "markdown",
      "source": [
        "As we see that the model is more dependent on the upper secondary factor, we use this variable to apply polynomial regression model of degree 2 on this data."
      ],
      "metadata": {
        "id": "U7UIKhrv0l8c"
      }
    },
    {
      "cell_type": "code",
      "source": [
        "X = df['Upper Secondary']\n",
        "print(X)"
      ],
      "metadata": {
        "colab": {
          "base_uri": "https://localhost:8080/"
        },
        "id": "KYKzeLsi1I9U",
        "outputId": "0eae9449-dd75-4715-e5ab-fba005a4601a"
      },
      "execution_count": null,
      "outputs": [
        {
          "output_type": "stream",
          "name": "stdout",
          "text": [
            "0    -0.778992\n",
            "1    -1.440864\n",
            "2    -2.397847\n",
            "3    -0.984951\n",
            "4    -0.833050\n",
            "5    -0.147142\n",
            "6    -1.047097\n",
            "7    -0.234583\n",
            "8    -0.340885\n",
            "9     0.453713\n",
            "10    0.522627\n",
            "11    0.612645\n",
            "12    0.098021\n",
            "13    0.750514\n",
            "14    0.583500\n",
            "15    1.121882\n",
            "16    1.366338\n",
            "17    1.017657\n",
            "18    0.040350\n",
            "19    1.638165\n",
            "Name: Upper Secondary, dtype: float64\n"
          ]
        }
      ]
    },
    {
      "cell_type": "code",
      "source": [
        "import statsmodels.api as sm\n",
        "\n",
        "model = sm.OLS(y, X).fit()\n",
        "ypred = model.predict(X) \n",
        "\n",
        "import matplotlib.pyplot as plt\n",
        "\n",
        "plt.scatter(X,y)\n",
        "plt.plot(X,ypred)"
      ],
      "metadata": {
        "colab": {
          "base_uri": "https://localhost:8080/",
          "height": 282
        },
        "id": "eck-oqt2zxBU",
        "outputId": "6de97011-9c1b-4c26-eced-bcc8c5cdf581"
      },
      "execution_count": null,
      "outputs": [
        {
          "output_type": "execute_result",
          "data": {
            "text/plain": [
              "[<matplotlib.lines.Line2D at 0x7f85d786f290>]"
            ]
          },
          "metadata": {},
          "execution_count": 15
        },
        {
          "output_type": "display_data",
          "data": {
            "text/plain": [
              "<Figure size 432x288 with 1 Axes>"
            ],
            "image/png": "[encoded data removed]"
          },
          "metadata": {
            "needs_background": "light"
          }
        }
      ]
    },
    {
      "cell_type": "code",
      "source": [
        "from sklearn.preprocessing import PolynomialFeatures\n",
        "import numpy as np \n",
        "polynomial_features= PolynomialFeatures(degree=2)\n",
        "x = X.to_numpy() \n",
        "xp = polynomial_features.fit_transform(x.reshape((-1,1)))\n",
        "xp.shape"
      ],
      "metadata": {
        "colab": {
          "base_uri": "https://localhost:8080/"
        },
        "id": "1I7GLAa3082v",
        "outputId": "9124148e-cb1d-4eff-a18d-e81ecd10808e"
      },
      "execution_count": null,
      "outputs": [
        {
          "output_type": "execute_result",
          "data": {
            "text/plain": [
              "(20, 3)"
            ]
          },
          "metadata": {},
          "execution_count": 32
        }
      ]
    },
    {
      "cell_type": "code",
      "source": [
        "import statsmodels.api as sm\n",
        "\n",
        "model = sm.OLS(y, xp).fit()\n",
        "ypred = model.predict(xp) \n",
        "\n",
        "ypred.shape"
      ],
      "metadata": {
        "colab": {
          "base_uri": "https://localhost:8080/"
        },
        "id": "yJDom_sF1cg4",
        "outputId": "e4739810-36a1-4a43-c450-89ef151c719c"
      },
      "execution_count": null,
      "outputs": [
        {
          "output_type": "execute_result",
          "data": {
            "text/plain": [
              "(20,)"
            ]
          },
          "metadata": {},
          "execution_count": 33
        }
      ]
    },
    {
      "cell_type": "code",
      "source": [
        "plt.scatter(x,y)\n",
        "plt.plot(x,ypred)"
      ],
      "metadata": {
        "colab": {
          "base_uri": "https://localhost:8080/",
          "height": 282
        },
        "id": "TmGN8v1E2eKN",
        "outputId": "88312c3c-43b4-4d46-d1a2-4577071e6f6a"
      },
      "execution_count": null,
      "outputs": [
        {
          "output_type": "execute_result",
          "data": {
            "text/plain": [
              "[<matplotlib.lines.Line2D at 0x7f85d69fdd90>]"
            ]
          },
          "metadata": {},
          "execution_count": 34
        },
        {
          "output_type": "display_data",
          "data": {
            "text/plain": [
              "<Figure size 432x288 with 1 Axes>"
            ],
            "image/png": "[encoded data removed]"
          },
          "metadata": {
            "needs_background": "light"
          }
        }
      ]
    },
    {
      "cell_type": "code",
      "source": [
        "model.summary()"
      ],
      "metadata": {
        "colab": {
          "base_uri": "https://localhost:8080/",
          "height": 465
        },
        "id": "Dh0vta-b2gvJ",
        "outputId": "8d5d8ea9-ff99-42b8-ce00-d27d5c08f602"
      },
      "execution_count": null,
      "outputs": [
        {
          "output_type": "execute_result",
          "data": {
            "text/plain": [
              "<class 'statsmodels.iolib.summary.Summary'>\n",
              "\"\"\"\n",
              "                            OLS Regression Results                            \n",
              "==============================================================================\n",
              "Dep. Variable:             Gini Index   R-squared:                       0.537\n",
              "Model:                            OLS   Adj. R-squared:                  0.482\n",
              "Method:                 Least Squares   F-statistic:                     9.854\n",
              "Date:                Fri, 08 Jul 2022   Prob (F-statistic):            0.00144\n",
              "Time:                        17:28:31   Log-Likelihood:                -20.168\n",
              "No. Observations:                  20   AIC:                             46.34\n",
              "Df Residuals:                      17   BIC:                             49.32\n",
              "Df Model:                           2                                         \n",
              "Covariance Type:            nonrobust                                         \n",
              "==============================================================================\n",
              "                 coef    std err          t      P>|t|      [0.025      0.975]\n",
              "------------------------------------------------------------------------------\n",
              "const         -0.3548      0.208     -1.707      0.106      -0.793       0.084\n",
              "x1            -0.3989      0.173     -2.312      0.034      -0.763      -0.035\n",
              "x2             0.3548      0.132      2.697      0.015       0.077       0.632\n",
              "==============================================================================\n",
              "Omnibus:                        4.801   Durbin-Watson:                   1.744\n",
              "Prob(Omnibus):                  0.091   Jarque-Bera (JB):                3.575\n",
              "Skew:                           1.035   Prob(JB):                        0.167\n",
              "Kurtosis:                       2.928   Cond. No.                         2.67\n",
              "==============================================================================\n",
              "\n",
              "Warnings:\n",
              "[1] Standard Errors assume that the covariance matrix of the errors is correctly specified.\n",
              "\"\"\""
            ],
            "text/html": [
              "<table class=\"simpletable\">\n",
              "<caption>OLS Regression Results</caption>\n",
              "<tr>\n",
              "  <th>Dep. Variable:</th>       <td>Gini Index</td>    <th>  R-squared:         </th> <td>   0.537</td>\n",
              "</tr>\n",
              "<tr>\n",
              "  <th>Model:</th>                   <td>OLS</td>       <th>  Adj. R-squared:    </th> <td>   0.482</td>\n",
              "</tr>\n",
              "<tr>\n",
              "  <th>Method:</th>             <td>Least Squares</td>  <th>  F-statistic:       </th> <td>   9.854</td>\n",
              "</tr>\n",
              "<tr>\n",
              "  <th>Date:</th>             <td>Fri, 08 Jul 2022</td> <th>  Prob (F-statistic):</th>  <td>0.00144</td>\n",
              "</tr>\n",
              "<tr>\n",
              "  <th>Time:</th>                 <td>17:28:31</td>     <th>  Log-Likelihood:    </th> <td> -20.168</td>\n",
              "</tr>\n",
              "<tr>\n",
              "  <th>No. Observations:</th>      <td>    20</td>      <th>  AIC:               </th> <td>   46.34</td>\n",
              "</tr>\n",
              "<tr>\n",
              "  <th>Df Residuals:</th>          <td>    17</td>      <th>  BIC:               </th> <td>   49.32</td>\n",
              "</tr>\n",
              "<tr>\n",
              "  <th>Df Model:</th>              <td>     2</td>      <th>                     </th>     <td> </td>   \n",
              "</tr>\n",
              "<tr>\n",
              "  <th>Covariance Type:</th>      <td>nonrobust</td>    <th>                     </th>     <td> </td>   \n",
              "</tr>\n",
              "</table>\n",
              "<table class=\"simpletable\">\n",
              "<tr>\n",
              "    <td></td>       <th>coef</th>     <th>std err</th>      <th>t</th>      <th>P>|t|</th>  <th>[0.025</th>    <th>0.975]</th>  \n",
              "</tr>\n",
              "<tr>\n",
              "  <th>const</th> <td>   -0.3548</td> <td>    0.208</td> <td>   -1.707</td> <td> 0.106</td> <td>   -0.793</td> <td>    0.084</td>\n",
              "</tr>\n",
              "<tr>\n",
              "  <th>x1</th>    <td>   -0.3989</td> <td>    0.173</td> <td>   -2.312</td> <td> 0.034</td> <td>   -0.763</td> <td>   -0.035</td>\n",
              "</tr>\n",
              "<tr>\n",
              "  <th>x2</th>    <td>    0.3548</td> <td>    0.132</td> <td>    2.697</td> <td> 0.015</td> <td>    0.077</td> <td>    0.632</td>\n",
              "</tr>\n",
              "</table>\n",
              "<table class=\"simpletable\">\n",
              "<tr>\n",
              "  <th>Omnibus:</th>       <td> 4.801</td> <th>  Durbin-Watson:     </th> <td>   1.744</td>\n",
              "</tr>\n",
              "<tr>\n",
              "  <th>Prob(Omnibus):</th> <td> 0.091</td> <th>  Jarque-Bera (JB):  </th> <td>   3.575</td>\n",
              "</tr>\n",
              "<tr>\n",
              "  <th>Skew:</th>          <td> 1.035</td> <th>  Prob(JB):          </th> <td>   0.167</td>\n",
              "</tr>\n",
              "<tr>\n",
              "  <th>Kurtosis:</th>      <td> 2.928</td> <th>  Cond. No.          </th> <td>    2.67</td>\n",
              "</tr>\n",
              "</table><br/><br/>Warnings:<br/>[1] Standard Errors assume that the covariance matrix of the errors is correctly specified."
            ]
          },
          "metadata": {},
          "execution_count": 35
        }
      ]
    }
  ]
}